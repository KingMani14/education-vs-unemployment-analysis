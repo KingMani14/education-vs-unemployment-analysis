{
 "cells": [
  {
   "cell_type": "code",
   "execution_count": 4,
   "id": "f8d47b35",
   "metadata": {},
   "outputs": [
    {
     "name": "stdout",
     "output_type": "stream",
     "text": [
      "                country country_code  year  unemployment_rate\n",
      "0           Afghanistan          AFG  2010          20.600000\n",
      "1                Angola          AGO  2010          10.800000\n",
      "2               Albania          ALB  2010          25.799999\n",
      "3            Arab World          ARB  2010          25.022214\n",
      "4  United Arab Emirates          ARE  2010           9.800000\n"
     ]
    }
   ],
   "source": [
    "import pandas as pd\n",
    "\n",
    "# Load the wide unemployment data\n",
    "unemp = pd.read_csv('API_ILO_country_YU.csv')\n",
    "\n",
    "# Clean column names (remove extra spaces)\n",
    "unemp.columns = unemp.columns.str.strip()\n",
    "\n",
    "# Melt the data into long format\n",
    "unemp_long = unemp.melt(\n",
    "    id_vars=['Country Name', 'Country Code'], \n",
    "    var_name='year', \n",
    "    value_name='unemployment_rate'\n",
    ")\n",
    "\n",
    "# Clean and convert year\n",
    "unemp_long['year'] = unemp_long['year'].astype(int)\n",
    "\n",
    "# Rename for consistency\n",
    "unemp_long.rename(columns={\n",
    "    'Country Name': 'country',\n",
    "    'Country Code': 'country_code'\n",
    "}, inplace=True)\n",
    "\n",
    "# Preview\n",
    "print(unemp_long.head())\n"
   ]
  },
  {
   "cell_type": "code",
   "execution_count": 5,
   "id": "48c03495",
   "metadata": {},
   "outputs": [
    {
     "name": "stdout",
     "output_type": "stream",
     "text": [
      "       country country_code_x  year  gov_exp_pct_gdp  lit_rate_adult_pct  \\\n",
      "0  Afghanistan            AFG  2010          3.47945                 NaN   \n",
      "1  Afghanistan            AFG  2011          3.46201                31.0   \n",
      "2  Afghanistan            AFG  2012          2.60420                 NaN   \n",
      "3  Afghanistan            AFG  2013          3.45446                 NaN   \n",
      "4  Afghanistan            AFG  2014          3.69522                 NaN   \n",
      "\n",
      "   pri_comp_rate_pct  pupil_teacher_primary  pupil_teacher_secondary  \\\n",
      "0                NaN               44.41709                      NaN   \n",
      "1                NaN               43.51915                      NaN   \n",
      "2                NaN               44.67743                      NaN   \n",
      "3                NaN               45.71171                      NaN   \n",
      "4                NaN                    NaN                      NaN   \n",
      "\n",
      "   school_enrol_primary_pct  school_enrol_secondary_pct  \\\n",
      "0                102.903442                   50.413689   \n",
      "1                100.290298                   52.198429   \n",
      "2                106.283401                   54.206390   \n",
      "3                107.695976                   54.754219   \n",
      "4                109.115517                   54.235481   \n",
      "\n",
      "   school_enrol_tertiary_pct country_code_y  unemployment_rate  \n",
      "0                        NaN            AFG          20.600000  \n",
      "1                    3.75561            AFG          20.900000  \n",
      "2                        NaN            AFG          19.700001  \n",
      "3                        NaN            AFG          21.100000  \n",
      "4                    8.31087            AFG          20.799999  \n"
     ]
    }
   ],
   "source": [
    "# Load education dataset\n",
    "edu_df = pd.read_csv('world-education-data.csv')\n",
    "\n",
    "# Clean column names\n",
    "edu_df.columns = edu_df.columns.str.strip().str.lower()\n",
    "\n",
    "# Merge on country and year\n",
    "merged_df = pd.merge(edu_df, unemp_long, on=['country', 'year'], how='inner')\n",
    "\n",
    "# Preview merged data\n",
    "print(merged_df.head())\n"
   ]
  },
  {
   "cell_type": "code",
   "execution_count": 6,
   "id": "df73919d",
   "metadata": {},
   "outputs": [
    {
     "name": "stdout",
     "output_type": "stream",
     "text": [
      "       country country_code_x  year  gov_exp_pct_gdp  lit_rate_adult_pct  \\\n",
      "0  Afghanistan            AFG  2010          3.47945                 NaN   \n",
      "1  Afghanistan            AFG  2011          3.46201                31.0   \n",
      "2  Afghanistan            AFG  2012          2.60420                 NaN   \n",
      "3  Afghanistan            AFG  2013          3.45446                 NaN   \n",
      "4  Afghanistan            AFG  2014          3.69522                 NaN   \n",
      "\n",
      "   pri_comp_rate_pct  pupil_teacher_primary  pupil_teacher_secondary  \\\n",
      "0                NaN               44.41709                      NaN   \n",
      "1                NaN               43.51915                      NaN   \n",
      "2                NaN               44.67743                      NaN   \n",
      "3                NaN               45.71171                      NaN   \n",
      "4                NaN                    NaN                      NaN   \n",
      "\n",
      "   school_enrol_primary_pct  school_enrol_secondary_pct  \\\n",
      "0                102.903442                   50.413689   \n",
      "1                100.290298                   52.198429   \n",
      "2                106.283401                   54.206390   \n",
      "3                107.695976                   54.754219   \n",
      "4                109.115517                   54.235481   \n",
      "\n",
      "   school_enrol_tertiary_pct country_code_y  unemployment_rate  \n",
      "0                        NaN            AFG          20.600000  \n",
      "1                    3.75561            AFG          20.900000  \n",
      "2                        NaN            AFG          19.700001  \n",
      "3                        NaN            AFG          21.100000  \n",
      "4                    8.31087            AFG          20.799999  \n"
     ]
    }
   ],
   "source": [
    "print(merged_df.head())"
   ]
  },
  {
   "cell_type": "code",
   "execution_count": 7,
   "id": "97e1890d",
   "metadata": {},
   "outputs": [],
   "source": [
    "!pip freeze > requirements.txt\n"
   ]
  },
  {
   "cell_type": "code",
   "execution_count": null,
   "id": "3dc27d3e",
   "metadata": {},
   "outputs": [],
   "source": []
  }
 ],
 "metadata": {
  "kernelspec": {
   "display_name": "Python 3",
   "language": "python",
   "name": "python3"
  },
  "language_info": {
   "codemirror_mode": {
    "name": "ipython",
    "version": 3
   },
   "file_extension": ".py",
   "mimetype": "text/x-python",
   "name": "python",
   "nbconvert_exporter": "python",
   "pygments_lexer": "ipython3",
   "version": "3.8.8"
  }
 },
 "nbformat": 4,
 "nbformat_minor": 5
}
